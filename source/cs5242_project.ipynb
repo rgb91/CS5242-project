{
  "nbformat": 4,
  "nbformat_minor": 0,
  "metadata": {
    "colab": {
      "name": "cs5242-project",
      "version": "0.3.2",
      "provenance": []
    },
    "kernelspec": {
      "name": "python3",
      "display_name": "Python 3"
    }
  },
  "cells": [
    {
      "metadata": {
        "id": "xsjBfhD5mxa5",
        "colab_type": "code",
        "colab": {}
      },
      "cell_type": "code",
      "source": [
        "import numpy as np\n",
        "import os\n",
        "from keras.models import Model\n",
        "from keras.layers import Input, Dense, Conv2D, Activation, MaxPool2D, Dropout, Flatten\n",
        "from keras.layers.convolutional import Convolution3D, MaxPooling3D, ZeroPadding3D\n",
        "from keras.optimizers import SGD"
      ],
      "execution_count": 0,
      "outputs": []
    },
    {
      "metadata": {
        "id": "ronxSFd3MPbr",
        "colab_type": "code",
        "colab": {}
      },
      "cell_type": "code",
      "source": [
        "TRAIN_DATA_PATH = r'C:\\Users\\Sanjay Saha\\CS5242-project\\processed_train_data'\n",
        "TEST_DATA_PATH = r'C:\\Users\\Sanjay Saha\\CS5242-project\\processed_test_data'"
      ],
      "execution_count": 0,
      "outputs": []
    },
    {
      "metadata": {
        "id": "nJFZEmFsMoiz",
        "colab_type": "code",
        "colab": {}
      },
      "cell_type": "code",
      "source": [
        "def get_model(input_shape=(49, 49, 49, 1), class_num=1):\n",
        "    \"\"\"Example CNN\n",
        "\n",
        "    Keyword Arguments:\n",
        "        input_shape {tuple} -- shape of input images. Should be (28,28,1) for MNIST and (32,32,3) for CIFAR (default: {(28,28,1)})\n",
        "        class_num {int} -- number of classes. Shoule be 10 for both MNIST and CIFAR10 (default: {10})\n",
        "\n",
        "    Returns:\n",
        "        model -- keras.models.Model() object\n",
        "    \"\"\"\n",
        "\n",
        "    im_input = Input (shape=input_shape)\n",
        "\n",
        "    t = Convolution3D (32, (24, 24, 24), padding='same') (im_input)  # (24,24,24)\n",
        "    t = MaxPooling3D (pool_size=(2, 2, 2)) (t)\n",
        "    t = Convolution3D (64, (12, 12, 12), padding='same') (t)\n",
        "    t = MaxPooling3D (pool_size=(2, 2, 2)) (t)\n",
        "    t = Convolution3D (128, (6, 6, 6), padding='same') (t)\n",
        "    t = Flatten () (t)\n",
        "    t = Dense (256) (t)\n",
        "    t = Activation ('relu') (t)\n",
        "    t = Dense (class_num) (t)\n",
        "    output = Activation ('softmax') (t)\n",
        "    model = Model (input=im_input, output=output)\n",
        "    sgd = SGD (lr=0.01, decay=1e-6, momentum=0.9, nesterov=True)\n",
        "    model.compile (sgd, 'binary_crossentropy', metrics=['accuracy'])\n",
        "\n",
        "    return model\n"
      ],
      "execution_count": 0,
      "outputs": []
    },
    {
      "metadata": {
        "id": "8dKcx-hqMr5V",
        "colab_type": "code",
        "colab": {}
      },
      "cell_type": "code",
      "source": [
        "#########################################################################\n",
        "#                               TRAINING                                #\n",
        "#########################################################################\n",
        "X_train = np.load(os.path.join(TRAIN_DATA_PATH, 'X.npy'))\n",
        "y_train = np.load(os.path.join(TRAIN_DATA_PATH, 'y.npy'))\n",
        "print(X_train.shape)\n",
        "print(y_train.shape)\n",
        "model = get_model(input_shape=(21, 21, 21, 2))\n",
        "# print (model.summary ())\n",
        "history = model.fit (X_train, y_train, epochs=1, verbose=1, validation_split=0.10, shuffle=True)"
      ],
      "execution_count": 0,
      "outputs": []
    }
  ]
}
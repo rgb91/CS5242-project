{
  "nbformat": 4,
  "nbformat_minor": 0,
  "metadata": {
    "colab": {
      "name": "cs5242-prepare-dataset",
      "version": "0.3.2",
      "provenance": []
    },
    "kernelspec": {
      "name": "python3",
      "display_name": "Python 3"
    }
  },
  "cells": [
    {
      "metadata": {
        "id": "KZ2D6D0eH7Sv",
        "colab_type": "code",
        "colab": {
          "base_uri": "https://localhost:8080/",
          "height": 36
        },
        "outputId": "cda716ee-d7b3-45e6-a287-c4ccf708099a"
      },
      "cell_type": "code",
      "source": [
        "! git clone https://github.com/sanjaysaha1311/CS5242-datasets"
      ],
      "execution_count": 1,
      "outputs": [
        {
          "output_type": "stream",
          "text": [
            "fatal: destination path 'CS5242-datasets' already exists and is not an empty directory.\n"
          ],
          "name": "stdout"
        }
      ]
    },
    {
      "metadata": {
        "id": "2Ip81CsxICE1",
        "colab_type": "code",
        "colab": {}
      },
      "cell_type": "code",
      "source": [
        "import numpy as np\n",
        "from sklearn.model_selection import train_test_split\n",
        "import random\n",
        "from os import listdir\n",
        "from os.path import isfile, join\n",
        "from math import ceil, sin, cos, sqrt, pi"
      ],
      "execution_count": 0,
      "outputs": []
    },
    {
      "metadata": {
        "id": "1atXOKo8Iefw",
        "colab_type": "code",
        "colab": {}
      },
      "cell_type": "code",
      "source": [
        "DATASET_DIRECTORY_PATH = r'CS5242-datasets/training_data'\n",
        "DATASET_OUTPUT_PATH = r'CS5242-datasets/training_data/processed_train_data'\n",
        "MAX_DIST = 100.0  # 10 means box size is 21 if grid resolution is 1.0\n",
        "RESOLUTION = 4.0"
      ],
      "execution_count": 0,
      "outputs": []
    },
    {
      "metadata": {
        "id": "uvzzUUcnIIji",
        "colab_type": "code",
        "colab": {}
      },
      "cell_type": "code",
      "source": [
        "def read_pdb_file(filename):\n",
        "    with open (filename, 'r') as file:\n",
        "        strline_L = file.readlines ()\n",
        "    # print(strline_L)\n",
        "\n",
        "    X_list = list ()\n",
        "    Y_list = list ()\n",
        "    Z_list = list ()\n",
        "    atomtype_list = list ()\n",
        "    for strline in strline_L:\n",
        "        # removes all whitespace at the start and end, including spaces, tabs, newlines and carriage returns\n",
        "        stripped_line = strline.strip ()\n",
        "\n",
        "        line_length = len (stripped_line)\n",
        "        # print(\"Line length:{}\".format(line_length))\n",
        "        if line_length < 78:\n",
        "            print (\"ERROR: line length is different. Expected=78, current={}\".format (line_length))\n",
        "\n",
        "        X_list.append (float (stripped_line[30:38].strip ()))\n",
        "        Y_list.append (float (stripped_line[38:46].strip ()))\n",
        "        Z_list.append (float (stripped_line[46:54].strip ()))\n",
        "\n",
        "        atomtype = stripped_line[76:78].strip ()\n",
        "        if atomtype == 'C':\n",
        "            atomtype_list.append (1.0)  # 'h' means hydrophobic\n",
        "        else:\n",
        "            atomtype_list.append (-1.0)  # 'p' means polar\n",
        "\n",
        "    return X_list, Y_list, Z_list, atomtype_list\n"
      ],
      "execution_count": 0,
      "outputs": []
    },
    {
      "metadata": {
        "id": "0UWnCqLsILRS",
        "colab_type": "code",
        "colab": {}
      },
      "cell_type": "code",
      "source": [
        "def reshape(X, Y, Z):\n",
        "    X = np.reshape (np.array (X), (np.array (X).shape[0], 1))\n",
        "    Y = np.reshape (np.array (Y), (np.array (Y).shape[0], 1))\n",
        "    Z = np.reshape (np.array (Z), (np.array (Z).shape[0], 1))\n",
        "    return X, Y, Z\n"
      ],
      "execution_count": 0,
      "outputs": []
    },
    {
      "metadata": {
        "id": "jtAaA5LMIM8E",
        "colab_type": "code",
        "colab": {}
      },
      "cell_type": "code",
      "source": [
        "def calculate_mean_indices(X, Y, Z):\n",
        "    return sum (X) / len (X), sum (Y) / len (Y), sum (Z) / len (Z)\n",
        "\n",
        "def normalize_indices(X, Y, Z, _X, _Y, _Z):\n",
        "    X_norm = [a_i - _X for a_i in X]\n",
        "    Y_norm = [a_i - _Y for a_i in Y]\n",
        "    Z_norm = [a_i - _Z for a_i in Z]\n",
        "    return X_norm, Y_norm, Z_norm"
      ],
      "execution_count": 0,
      "outputs": []
    },
    {
      "metadata": {
        "id": "kiAkKm6RIhHu",
        "colab_type": "code",
        "colab": {}
      },
      "cell_type": "code",
      "source": [
        "def make_grid(coords, features, grid_resolution=RESOLUTION, max_dist=10.0):\n",
        "    \"\"\"Convert atom coordinates and features represented as 2D arrays into a\n",
        "    fixed-sized 3D box.\n",
        "\n",
        "    Parameters\n",
        "    ----------\n",
        "    coords, features: array-likes, shape (N, 3) and (N, F)\n",
        "        Arrays with coordinates and features for each atoms.\n",
        "    grid_resolution: float, optional\n",
        "        Resolution of a grid (in Angstroms).\n",
        "    max_dist: float, optional\n",
        "        Maximum distance between atom and box center. Resulting box has size of\n",
        "        2*`max_dist`+1 Angstroms and atoms that are too far away are not\n",
        "        included.\n",
        "\n",
        "    Returns\n",
        "    -------\n",
        "    coords: np.ndarray, shape = (M, M, M, F)\n",
        "        4D array with atom properties distributed in 3D space. M is equal to\n",
        "        2 * `max_dist` / `grid_resolution` + 1\n",
        "    \"\"\"\n",
        "\n",
        "    try:\n",
        "        coords = np.asarray (coords, dtype=np.float)\n",
        "    except ValueError:\n",
        "        raise ValueError ('coords must be an array of floats of shape (N, 3)')\n",
        "    c_shape = coords.shape\n",
        "    if len (c_shape) != 2 or c_shape[1] != 3:\n",
        "        raise ValueError ('coords must be an array of floats of shape (N, 3)')\n",
        "\n",
        "    N = len (coords)\n",
        "    try:\n",
        "        features = np.asarray (features, dtype=np.float)\n",
        "    except ValueError:\n",
        "        raise ValueError ('features must be an array of floats of shape (N, 3)')\n",
        "    if not isinstance (grid_resolution, (float, int)):\n",
        "        raise TypeError ('grid_resolution must be float')\n",
        "    if grid_resolution <= 0:\n",
        "        raise ValueError ('grid_resolution must be positive')\n",
        "\n",
        "    if not isinstance (max_dist, (float, int)):\n",
        "        raise TypeError ('max_dist must be float')\n",
        "    f_shape = features.shape\n",
        "    if len (f_shape) != 2 or f_shape[0] != N:\n",
        "        raise ValueError ('features must be an array of floats of shape (%s, 3)' % N)\n",
        "\n",
        "    if max_dist <= 0:\n",
        "        raise ValueError ('max_dist must be positive')\n",
        "\n",
        "    num_features = f_shape[1]\n",
        "    max_dist = float (max_dist)\n",
        "    grid_resolution = float (grid_resolution)\n",
        "\n",
        "    box_size = ceil (2 * max_dist / grid_resolution + 1)\n",
        "\n",
        "    # move all atoms to the neares grid point\n",
        "    # grid_coords = (coords + max_dist) / grid_resolution # previous calculation\n",
        "    grid_coords = (coords) / grid_resolution\n",
        "    grid_coords = grid_coords.round ().astype (int)\n",
        "\n",
        "    # remove atoms outside the box\n",
        "    # in_box = ((grid_coords >= 0) & (grid_coords < box_size)).all (axis=1) # original\n",
        "    highest_bound = int (round (sqrt (3) / 2 * box_size))\n",
        "    lowest_bound = int (round (-highest_bound))\n",
        "    in_box = ((grid_coords >= lowest_bound) & (grid_coords < highest_bound)).all (axis=1)\n",
        "    grid = np.zeros ((1, box_size, box_size, box_size, num_features),\n",
        "                     dtype=np.float32)\n",
        "    for (x, y, z), f in zip (grid_coords[in_box], features[in_box]):\n",
        "        grid[0, x, y, z] += f\n",
        "\n",
        "    return grid\n"
      ],
      "execution_count": 0,
      "outputs": []
    },
    {
      "metadata": {
        "id": "ZnDTQI_ZIjP2",
        "colab_type": "code",
        "colab": {}
      },
      "cell_type": "code",
      "source": [
        "def check_grid(grid):\n",
        "    \"\"\"\n",
        "    Prints the number of protein and ligand atoms are there in the grid.\n",
        "    :param grid: (N x N x N x F)\n",
        "    :return: None\n",
        "    \"\"\"\n",
        "    temp_grid = np.reshape (grid, (grid.shape[1], grid.shape[2], grid.shape[3], grid.shape[4]))\n",
        "    # print('Temp grid shape: '+str(temp_grid.shape))\n",
        "    box_size = grid.shape[1]\n",
        "    lig_count, pro_count, blank_count = 0, 0, 0\n",
        "    for i in range (box_size):\n",
        "        for j in range (box_size):\n",
        "            for k in range (box_size):\n",
        "                if temp_grid[i, j, k, 1] == -1:\n",
        "                    lig_count += 1\n",
        "                elif temp_grid[i, j, k, 1] == 1:\n",
        "                    pro_count += 1\n",
        "                elif temp_grid[i, j, k, 1] == 0:\n",
        "                    blank_count += 1\n",
        "    print ('Protein Atoms in Box: ' + str (pro_count))\n",
        "    print ('Ligand Atoms in Box: ' + str (lig_count))\n",
        "    print ('Blank spaces in Box: ' + str (blank_count))\n",
        "    print ('Shape of grid: ' + str (grid.shape))\n"
      ],
      "execution_count": 0,
      "outputs": []
    },
    {
      "metadata": {
        "id": "m0MjhxyHIkq8",
        "colab_type": "code",
        "colab": {}
      },
      "cell_type": "code",
      "source": [
        "def get_grid_from_file_pairs(ligandfile, proteinfile):\n",
        "    # Read protein and ligand coordinates and type from PDB files\n",
        "    X_list_ligand, Y_list_ligand, Z_list_ligand, atomtype_list_ligand = read_pdb_file (ligandfile)\n",
        "    X_list_protein, Y_list_protein, Z_list_protein, atomtype_list_protein = read_pdb_file (proteinfile)\n",
        "\n",
        "    # Normalize the coordinates: Put the ligands in the middle and align around the mean of ligand atoms\n",
        "    X_mean_ligand, Y_mean_ligand, Z_mean_ligand = calculate_mean_indices (X_list_ligand, Y_list_ligand,\n",
        "                                                                          Z_list_ligand)\n",
        "    X_list_ligand, Y_list_ligand, Z_list_ligand = normalize_indices (X_list_ligand, Y_list_ligand, Z_list_ligand,\n",
        "                                                                     X_mean_ligand, Y_mean_ligand, Z_mean_ligand)\n",
        "    X_list_protein, Y_list_protein, Z_list_protein = normalize_indices (X_list_protein, Y_list_protein,\n",
        "                                                                        Z_list_protein,\n",
        "                                                                        X_mean_ligand, Y_mean_ligand, Z_mean_ligand)\n",
        "\n",
        "    # Reshape\n",
        "    X_list_ligand, Y_list_ligand, Z_list_ligand = reshape (X_list_ligand, Y_list_ligand, Z_list_ligand)\n",
        "    X_list_protein, Y_list_protein, Z_list_protein = reshape (X_list_protein, Y_list_protein, Z_list_protein)\n",
        "\n",
        "    # Concatenating proteins and ligands' coordinates\n",
        "    X_list = np.concatenate ((X_list_protein, X_list_ligand))\n",
        "    Y_list = np.concatenate ((Y_list_protein, Y_list_ligand))\n",
        "    Z_list = np.concatenate ((Z_list_protein, Z_list_ligand))\n",
        "\n",
        "    # Preparing atom type list\n",
        "    atomtype_list_ligand = np.array (atomtype_list_ligand)\n",
        "    atomtype_list_ligand = np.reshape (atomtype_list_ligand, (atomtype_list_ligand.shape[0], 1))\n",
        "    atomtype_list_protein = np.array (atomtype_list_protein)\n",
        "    atomtype_list_protein = np.reshape (atomtype_list_protein, (atomtype_list_protein.shape[0], 1))\n",
        "    atomtype_list_pair = np.asarray (np.concatenate ((atomtype_list_ligand, atomtype_list_protein)), dtype='float')\n",
        "\n",
        "    # Marking atoms as protein and ligand\n",
        "    protein_identifier = np.ones ((atomtype_list_protein.shape[0], 1), dtype='float')\n",
        "    ligand_identifier = np.negative (np.ones ((atomtype_list_ligand.shape[0], 1), dtype='float'))\n",
        "    protein_ligand_identifier = np.concatenate ((protein_identifier, ligand_identifier))\n",
        "\n",
        "    # Feature Channel (N x 2) containing - 1) Atom type & 2) If an atom is protein or ligand\n",
        "    feature_channel = np.concatenate ((atomtype_list_pair, protein_ligand_identifier), axis=1)\n",
        "\n",
        "    coordinates_one_pair = np.asarray (np.concatenate ((X_list, Y_list, Z_list), axis=1), dtype='float')\n",
        "\n",
        "    # Create the GRID\n",
        "    grid = make_grid (coordinates_one_pair, feature_channel, max_dist=MAX_DIST)\n",
        "\n",
        "    # Check grid\n",
        "    # print ()\n",
        "    # print ('Total Protein Atoms: ' + str (atomtype_list_protein.shape[0]))\n",
        "    # print ('Total Ligand Atoms: ' + str (atomtype_list_ligand.shape[0]))\n",
        "    # check_grid (grid)\n",
        "    # print ('====================================================')\n",
        "\n",
        "    return grid\n"
      ],
      "execution_count": 0,
      "outputs": []
    },
    {
      "metadata": {
        "id": "XXeAUUDpIoCe",
        "colab_type": "code",
        "colab": {}
      },
      "cell_type": "code",
      "source": [
        "datapath = DATASET_DIRECTORY_PATH\n",
        "allfiles = [join (datapath, f) for f in listdir (datapath) if isfile (join (datapath, f))]\n",
        "X = []\n",
        "y = []\n",
        "\n",
        "# Prepare positive examples of dataset\n",
        "for i in range (0, len (allfiles), 2):\n",
        "    grid = get_grid_from_file_pairs (ligandfile=allfiles[i], proteinfile=allfiles[i + 1])\n",
        "    X.append (grid)\n",
        "    y.append (1.0)\n",
        "\n",
        "# Prepare negative examples of dataset\n",
        "for i in range (0, len (allfiles), 2):\n",
        "    random_index = random.randint (0, int (len (allfiles) / 2))\n",
        "    while random_index == i:\n",
        "        random_index = random.randint (0, int (len (allfiles) / 2))\n",
        "    if random_index % 2 == 0:\n",
        "        random_index += 1\n",
        "    grid = get_grid_from_file_pairs (ligandfile=allfiles[i], proteinfile=allfiles[random_index])\n",
        "    X.append (grid)\n",
        "    y.append (0.0)\n",
        "\n",
        "m = len (X)\n",
        "X = np.array (X)\n",
        "X = np.reshape (X, (X.shape[0], X.shape[2], X.shape[3], X.shape[4], X.shape[5]))\n",
        "y = np.array (y)\n",
        "y = np.reshape (y, (y.shape[0], 1))\n",
        "print (X.shape)\n",
        "print (y.shape)\n",
        "# dataset = np.concatenate((X, y.T), axis=1)\n",
        "np.save (os.path.join (DATASET_OUTPUT_PATH, 'X.npy'), X)\n",
        "np.save (os.path.join (DATASET_OUTPUT_PATH, 'y.npy'), y)"
      ],
      "execution_count": 0,
      "outputs": []
    }
  ]
}